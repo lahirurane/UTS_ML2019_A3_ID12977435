{
  "nbformat": 4,
  "nbformat_minor": 0,
  "metadata": {
    "colab": {
      "name": "UTS_ML_A3_12977435.ipynb",
      "provenance": [],
      "toc_visible": true,
      "include_colab_link": true
    },
    "kernelspec": {
      "name": "python3",
      "display_name": "Python 3"
    }
  },
  "cells": [
    {
      "cell_type": "markdown",
      "metadata": {
        "id": "view-in-github",
        "colab_type": "text"
      },
      "source": [
        "<a href=\"https://colab.research.google.com/github/lahirurane/UTS_ML2019_A3_ID12977435/blob/master/UTS_ML_A3_12977435.ipynb\" target=\"_parent\"><img src=\"https://colab.research.google.com/assets/colab-badge.svg\" alt=\"Open In Colab\"/></a>"
      ]
    },
    {
      "cell_type": "markdown",
      "metadata": {
        "id": "R4Zdx7UhNF-L",
        "colab_type": "text"
      },
      "source": [
        "##32513 Advanced Data Analytics Algorithms\n",
        "\n",
        "\n",
        "#Assignment 3 : Pitch and Plan for Solving a Domain Problem\n",
        "\n",
        "\n",
        "\n",
        " "
      ]
    },
    {
      "cell_type": "markdown",
      "metadata": {
        "id": "df3SM2lBNzKM",
        "colab_type": "text"
      },
      "source": [
        "Student Name : R M L R Ranasinghe \n",
        "\n",
        "Student ID : 12977435\n",
        "\n",
        "---"
      ]
    },
    {
      "cell_type": "markdown",
      "metadata": {
        "id": "IwEBbuANQZLv",
        "colab_type": "text"
      },
      "source": [
        "#Prediction of players with best coordination for Rugby Union"
      ]
    },
    {
      "cell_type": "markdown",
      "metadata": {
        "id": "a2kTEKbcN4Gq",
        "colab_type": "text"
      },
      "source": [
        "###Table of Contents\n",
        "\n",
        "\n",
        "1. Aims\n",
        "2. Background\n",
        "3. Research Project \n",
        "4. Budget \n",
        "5. Personnel \n",
        "6. References \n",
        "7. Video Pitch \n",
        "\n"
      ]
    },
    {
      "cell_type": "markdown",
      "metadata": {
        "id": "uy2ZdZtWOd_D",
        "colab_type": "text"
      },
      "source": [
        "##Aim\n",
        "\n",
        "The aim of the project is to support the coaching staff of the Rugby Australia team with predicting the player performance and the suitable players with best coordination to play together. The objectives of the project are as follows, \n",
        "\n",
        "1.\tPre-process player data \n",
        "2.\tEvaluate several models\n",
        "3.\tValidate and deploy the model\n",
        "\n",
        "Rugby is a contact team sport which has 15 players a side. In rugby, the players need to be in very high coordination with the positioning and passing. In this project, the players coordination will be evaluated using the game data and predict with the players are more suitable to play with each other. \n",
        "\n",
        "\n",
        "\n",
        "**Vision**: Make Australia Rugby Team the best team of the world\n",
        "\n",
        "**Goal**: Support coaching staff to set best player combinations\n",
        "\n",
        "**Objective**: Predict best coordination among current players and new players\n",
        "\n",
        "**Deliverable**: A model with more than 85% accuracy of the player performance with coordination prediction\n",
        "\n"
      ]
    },
    {
      "cell_type": "markdown",
      "metadata": {
        "id": "HQQkjIh-OgGs",
        "colab_type": "text"
      },
      "source": [
        "##Background\n",
        "\n",
        "Rugby also called as Rugby Union is a contact team sport which was originated from England. The game is played by 15 players aside. It is considered as one of the tough, strong, and fast interaction games. The games provide players to improve their physical condition, speed, agility and endurance. Moreover, as the game is played with the team, the performance as an individual is as important as the overall performance as a team. The players support each other mentally and physically. Moreover, for most effective scoring player coordination plays a vital role. The communication among the team and identifying sudden changes made by a team member and adjust according is essential during a rugby game. \n",
        "\n",
        "\n",
        "Currently, the game is played by 101 countries and among that Australia is one of the oldest countries which is still playing Rugby since 1899. Rugby Australia’s elite teams’ objective is to build sustainable success in the professional game. Hence, the management has invested in the coaching staff as well as technology as well. \n",
        "\n",
        "\n",
        "In January 2019, Rugby Australia initiated a high-performance unit involving data analytics for training and planning by their coaching staff. The main purpose of this project is to improve the player’s skills and performance, mentally and physically. The analytics team has collected training data, player performance data, wellness data, and GPS data of the players (Braue 2018). The platform is created to store all the big data and visualise data in several ways so that coaching staff has the ability to make insightful decisions. This system has made the decision making of the coaching staff effective and efficient. \n",
        "\n",
        "\n",
        "However, with the game situation, players tend to get injured during competitions and also get tired up during the game. Therefore, the coaching staff need to change players from time to time without harming the team performance and dynamics. Hence, the supporting staff find it challenging to find suitable players and new players who can be played together with a strong connection. Therefore, the proposed system can be beneficial to evaluate the players and predict which players can play together as well as which players are the most influential during the game. \n",
        "\n",
        "\n",
        "There are many academic studies of research done in player performance prediction in team sports as well as individual sports. For football, performance prediction was made using a linear regression model (Pariath et al. 2018). Pariath has suggested dividing the models according to the player role since the different positions have different vital attributes. Another player performance prediction was made using the random forest and XGBoost models for NBA players (Oughali, Bahloul & Rahman 2019). In these studies, the player’s performance was considered from an individual perspective. However, In Rugby the player performance depends on the team players as well. Therefore, the project focuses on player performance prediction in the team working perspective. \n",
        "\n",
        "\n",
        "Passos has pointed out that players interactions can be considered as complex social networks (Passos et al. 2011). Moreover, the author has considered the intentional and unintentional coordination behaviours during the game. Also, the interactions can be changed during the game according to the nature of the game as well. The same idea can be put into Rugby player interactions as well. According to the nature of RugbyRugby, the player’s performance can alter. Hence, using player coordination prediction, along with performance using complex networks, can be identified as suitable methods. \n",
        "\n"
      ]
    },
    {
      "cell_type": "markdown",
      "metadata": {
        "id": "XuZ1mfYKOpEx",
        "colab_type": "text"
      },
      "source": [
        "##Research Project"
      ]
    },
    {
      "cell_type": "markdown",
      "metadata": {
        "id": "nCYICA9LOsK6",
        "colab_type": "text"
      },
      "source": [
        "###Significance\n",
        "\n",
        "As the game is so intense, players tend to get injured during competitions and also get tired up during the game. Therefore, the coaching staff need to change players from time to time without harming the team performance and dynamics. Hence, the supporting staff find it challenging to find suitable players and new players who can be played together with a strong connection. Therefore, the proposed system can be beneficial to evaluate the players and predict which players can play together as well as which players are the most influential during the game. This project is in line with Rugby Australia’s objectives to keep the national team in high standards. "
      ]
    },
    {
      "cell_type": "markdown",
      "metadata": {
        "id": "ZU5_sVq5O1Y6",
        "colab_type": "text"
      },
      "source": [
        "###Innovation\n",
        "\n",
        "As mentioned above, there are many performance predictions for sports. However, the player prediction is somewhat lacking in rugby. The main reason is dynamic in the game — for example, a forward whose role is to defend and push forward with the strength. However, the same player can be in the backs to move the ball forward like a sprinter. Therefore, the player performance is considered as a team with team coordination among players. This area of studies can be considered as innovative in the academic area as well in rugby."
      ]
    },
    {
      "cell_type": "markdown",
      "metadata": {
        "id": "Xag9qOyZO5oO",
        "colab_type": "text"
      },
      "source": [
        "###Approach\n",
        "\n",
        "The project approach is separated into three main stages following the crisp-dm model.  \n",
        "\n",
        "1. Business understanding \n",
        "\n",
        "  In this stage, the meetings will be held between the technical team and the rugby experts. The coaching staff of Rugby Australia’s knowledge can be transferred to the technical lead of the project. The primary purpose of the technical lead is to get the proper requirement from the coaching staff and the process of evaluating a player manually. \n",
        "  \n",
        "\n",
        "2.     Data understanding\n",
        "\n",
        "  In this stage, the technical team evaluates the current data that is captured from rugby players and identify the critical data that is suitable for the project.\n",
        "  \n",
        "\n",
        "3.    Data preparation \n",
        "\n",
        "  A migration is developed in this stage to gather the data. The uploaded data is pre-processed according to the data types for the modelling. \n",
        "  \n",
        "\n",
        "4.    Modelling & Development\n",
        "\n",
        "  In this stage, the team is expected to try several models as well as complex networks for team coordination. Moreover, API development is taken place in this stage, which will allow communicating the prediction data to visualise tools. The data scientist expected to use TensorFlow and scikit-learn libraries to create the model.\n",
        "  \n",
        "\n",
        "5.    Evaluation \n",
        "\n",
        "  The created models in the above stage are evaluated to select the best possible accuracy. If the accuracy is not up to the required level, a step is taken back to the modelling stage to remodelling. \n",
        "  \n",
        "\n",
        "6.    Deployment\n",
        "\n",
        "  Once the evaluation is done, and the model is selected, the model is ready to deploy. The model and the backend API are deployed in the server for production usage. \n",
        "\n",
        "\n",
        "\n"
      ]
    },
    {
      "cell_type": "markdown",
      "metadata": {
        "id": "VvuZvujKPDxd",
        "colab_type": "text"
      },
      "source": [
        "###Timeline\n",
        "\n",
        "![](https://drive.google.com/uc?id=1gvuKMAI19KXsgiZILM5ktQhugLY-j_G3)\n",
        "\n",
        "The timeline follows the following items as listed below. \n",
        "\n",
        "- Planning and project Initiating - 20 Days\n",
        "\n",
        "  In this stage the project team is recruited and setup by the project manager. Also, the business requirements are gathered. \n",
        "\n",
        "- Data processing - 30 Days\n",
        "\n",
        "  In this stage the data is gathered from the data warehouse. First, the data is identified by the team and pre-process accordingly. \n",
        "\n",
        "- Modelling, development, and Evaluation - 180\n",
        "\n",
        "  The data science team will model using several methods as well as several models such as linear regression and XGBoost. Once the models are implemented, the models are evaluated with each other. Also, the server side with the API implementation is developed in this stage. Hence, this is stage requires a longer period of time. \n",
        "\n",
        "- Deployment - 20\n",
        "\n",
        "  Deploy the successful model and the server for production use. \n"
      ]
    },
    {
      "cell_type": "markdown",
      "metadata": {
        "id": "Z-krQ4cFPGEy",
        "colab_type": "text"
      },
      "source": [
        "###Outcome\n",
        "\n",
        "The proposed system would provide player predictions to decide the team for each game. \n",
        "The game results will be higher as the most suitable players are playing in the game. Moreover, this project will help Rugby Australia to keep a sustainable team with high performance all the time according to their objectives."
      ]
    },
    {
      "cell_type": "markdown",
      "metadata": {
        "id": "PanTKLfcPWTO",
        "colab_type": "text"
      },
      "source": [
        "###Budget\n",
        "\n",
        "The following table describes the cost of the proposed project. The total period of this project is considered as one year. Hence, the total number of working days is 250 days. \n",
        "\n",
        "The total budget for the proposed is $1067350.00. \n",
        "\n",
        "\n",
        "\n",
        "| Cost Type | Cost per item / per hour (\\$) | Total Cost (\\$) |\n",
        "|------------------------------|--------------------------|------------|\n",
        "| **Human Resources** |  |  |\n",
        "| Solution Architect | 100 | 175000 |\n",
        "| Business Analyst | 90 | 157500 |\n",
        "| Lead Analysts | 80 | 140000 |\n",
        "| Senior Data scientist | 78 | 136500 |\n",
        "| Data Analyst | 75 | 131250 |\n",
        "| Data scientist | 70 | 122500 |\n",
        "| Project Manager | 68 | 119000 |\n",
        "|------------------------------|--------------------------|------------|\n",
        "| **Equipment** |  |  |\n",
        "| Laptops | 1,000 | 10000 |\n",
        "| Cloud Servers (AWS EC2 & S3) |  | 5,000 |\n",
        "| Software Licenses & Other |  | 10000 |\n",
        "|------------------------------|--------------------------|------------|\n",
        "| **Infrastructure** |  |  |\n",
        "| Office Rent | 1,000 | 52000 |\n",
        "| Electricity | 200 / per month | 2,400 |\n",
        "| Internet & LAN | 100/ per month | 1,200 |\n",
        "| Misc |  | 5,000 |\n",
        "|------------------------------|--------------------------|------------|\n",
        "| **Total** |  | **1067350** |\n",
        "\n"
      ]
    },
    {
      "cell_type": "markdown",
      "metadata": {
        "id": "Gf4-GD0oPcL8",
        "colab_type": "text"
      },
      "source": [
        "##Personnel  \n",
        "\n",
        "The proposed project required the following peronel with the mentioned roles below. \n",
        "\n",
        "Role | Number of Personnel\n",
        "--- | ---\n",
        "Solution Architect | 1\n",
        "Business Analyst | 1 \n",
        "Lead Analysts | 1 \n",
        "Senior Data scientist | 1 \n",
        "Data Analyst | 2 \n",
        "Data scientist | 2 \n",
        "Project Manager | 1\n",
        "\n",
        "\n",
        "#### Solution Architect \n",
        "\n",
        "Design the Architect of the system according to the requirements\n",
        "\n",
        "#### Business Analyst\n",
        "\n",
        "Gather and identify the requirements of the project\n",
        "\n",
        "#### Lead Analyst\n",
        "\n",
        "Lead the analyst team, Identify the data, and process data accordingly \n",
        "\n",
        "#### Senior Data scientist\n",
        "\n",
        "Lead the data science team and develop proper model according to the requirements\n",
        "\n",
        "#### Data Analyst\n",
        "\n",
        "Identify the data, and process data accordingly\n",
        "\n",
        "#### Data scientist \n",
        "\n",
        "Develop proper model according to the requirements\n",
        "\n",
        "#### Project Manager\n",
        "\n",
        "Make sure the project is delievered on time within the budget\n",
        "\n",
        "\n",
        "\n",
        "\n",
        "\n",
        "\n",
        "\n"
      ]
    },
    {
      "cell_type": "markdown",
      "metadata": {
        "id": "aj3K7FgqPgA8",
        "colab_type": "text"
      },
      "source": [
        "##References\n",
        "\n",
        "\n",
        "* Braue, D. 2018, Rugby Australia taps big data to improve player performance, viewed 9th October 2019, <https://www.itnews.com.au/news/rugby-australia-taps-big-data-to-improve-player-performance-478819>.\n",
        "\n",
        "* Oughali, M.S., Bahloul, M. & Rahman, S.A.E. 2019, 'Analysis of NBA Players and Shot Prediction Using Random Forest and XGBoost Models', 2019 International Conference on Computer and Information Sciences (ICCIS), pp. 1-5.\n",
        "\n",
        "* Pariath, R., Shah, S., Surve, A. & Mittal, J. 2018, 'Player Performance Prediction in Football Game', 2018 Second International Conference on Electronics, Communication and Aerospace Technology (ICECA), pp. 1148-53.\n",
        "\n",
        "* Passos, P., Davids, K., Araújo, D., Paz, N., Minguéns, J. & Mendes, J. 2011, 'Networks as a novel tool for studying team ball sports as complex social systems', Journal of Science and Medicine in Sport, vol. 14, no. 2, pp. 170-6.\n",
        "\n",
        "\n",
        "\n"
      ]
    },
    {
      "cell_type": "markdown",
      "metadata": {
        "id": "gOqqfmk1Pi-O",
        "colab_type": "text"
      },
      "source": [
        "##Video Pitch"
      ]
    },
    {
      "cell_type": "markdown",
      "metadata": {
        "id": "_5Kvki5ioKqN",
        "colab_type": "text"
      },
      "source": [
        "##Github URL \n",
        "\n",
        "https://github.com/lahirurane/UTS_ML2019_A3_ID12977435/blob/master/UTS_ML_A3_12977435.ipynb\n",
        "\n"
      ]
    }
  ]
}