{
  "nbformat": 4,
  "nbformat_minor": 0,
  "metadata": {
    "colab": {
      "name": "UTS_ML_A3_12977435.ipynb",
      "provenance": [],
      "include_colab_link": true
    },
    "kernelspec": {
      "name": "python3",
      "display_name": "Python 3"
    }
  },
  "cells": [
    {
      "cell_type": "markdown",
      "metadata": {
        "id": "view-in-github",
        "colab_type": "text"
      },
      "source": [
        "<a href=\"https://colab.research.google.com/github/lahirurane/UTS_ML2019_A3_ID12977435/blob/master/UTS_ML_A3_12977435.ipynb\" target=\"_parent\"><img src=\"https://colab.research.google.com/assets/colab-badge.svg\" alt=\"Open In Colab\"/></a>"
      ]
    },
    {
      "cell_type": "markdown",
      "metadata": {
        "id": "R4Zdx7UhNF-L",
        "colab_type": "text"
      },
      "source": [
        "##32513 Advanced Data Analytics Algorithms\n",
        "\n",
        "\n",
        "#Assignment 3 : Pitch and Plan for Solving a Domain Problem\n",
        "\n",
        "\n",
        "\n",
        " "
      ]
    },
    {
      "cell_type": "markdown",
      "metadata": {
        "id": "df3SM2lBNzKM",
        "colab_type": "text"
      },
      "source": [
        "Student Name : R M L R Ranasinghe \n",
        "\n",
        "Student ID : 12977435"
      ]
    },
    {
      "cell_type": "markdown",
      "metadata": {
        "id": "a2kTEKbcN4Gq",
        "colab_type": "text"
      },
      "source": [
        "###Table of Contents\n",
        "\n",
        "\n",
        "1. Project Title\n",
        "2. Aims\n",
        "3. Background\n",
        "4. Research Project \n",
        "5. Budget \n",
        "6. Personnel \n",
        "7. References \n",
        "8. Video Pitch \n",
        "\n"
      ]
    },
    {
      "cell_type": "markdown",
      "metadata": {
        "id": "ofez917SOWwh",
        "colab_type": "text"
      },
      "source": [
        "##Project Title "
      ]
    },
    {
      "cell_type": "markdown",
      "metadata": {
        "id": "uy2ZdZtWOd_D",
        "colab_type": "text"
      },
      "source": [
        "##Aims"
      ]
    },
    {
      "cell_type": "markdown",
      "metadata": {
        "id": "HQQkjIh-OgGs",
        "colab_type": "text"
      },
      "source": [
        "##Background"
      ]
    },
    {
      "cell_type": "markdown",
      "metadata": {
        "id": "XuZ1mfYKOpEx",
        "colab_type": "text"
      },
      "source": [
        "##Research Project"
      ]
    },
    {
      "cell_type": "markdown",
      "metadata": {
        "id": "nCYICA9LOsK6",
        "colab_type": "text"
      },
      "source": [
        "###Significance"
      ]
    },
    {
      "cell_type": "markdown",
      "metadata": {
        "id": "ZU5_sVq5O1Y6",
        "colab_type": "text"
      },
      "source": [
        "###Innovation"
      ]
    },
    {
      "cell_type": "markdown",
      "metadata": {
        "id": "Xag9qOyZO5oO",
        "colab_type": "text"
      },
      "source": [
        "###Approach"
      ]
    },
    {
      "cell_type": "markdown",
      "metadata": {
        "id": "VvuZvujKPDxd",
        "colab_type": "text"
      },
      "source": [
        "###Timeline"
      ]
    },
    {
      "cell_type": "markdown",
      "metadata": {
        "id": "Z-krQ4cFPGEy",
        "colab_type": "text"
      },
      "source": [
        "###Outcome"
      ]
    },
    {
      "cell_type": "markdown",
      "metadata": {
        "id": "PanTKLfcPWTO",
        "colab_type": "text"
      },
      "source": [
        "##Budget"
      ]
    },
    {
      "cell_type": "markdown",
      "metadata": {
        "id": "Gf4-GD0oPcL8",
        "colab_type": "text"
      },
      "source": [
        "##Personnel  "
      ]
    },
    {
      "cell_type": "markdown",
      "metadata": {
        "id": "aj3K7FgqPgA8",
        "colab_type": "text"
      },
      "source": [
        "##References"
      ]
    },
    {
      "cell_type": "markdown",
      "metadata": {
        "id": "gOqqfmk1Pi-O",
        "colab_type": "text"
      },
      "source": [
        "##Video Pitch"
      ]
    },
    {
      "cell_type": "markdown",
      "metadata": {
        "id": "-d-wVHbhPnOB",
        "colab_type": "text"
      },
      "source": [
        "Github URL : https://github.com/lahirurane/UTS_ML2019_A3_ID12977435/blob/master/UTS_ML_A3_12977435.ipynb"
      ]
    }
  ]
}